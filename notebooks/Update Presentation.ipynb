{
 "cells": [
  {
   "cell_type": "code",
   "execution_count": 1,
   "metadata": {},
   "outputs": [],
   "source": [
    "import os\n",
    "import pickle\n",
    "import numpy as np\n",
    "import pandas as pd\n",
    "import networkx as nx\n",
    "from scipy import special\n",
    "from matplotlib import pyplot as plt\n",
    "from sklearn.neighbors import LocalOutlierFactor\n",
    "from sklearn import base, metrics, decomposition, preprocessing"
   ]
  },
  {
   "cell_type": "markdown",
   "metadata": {},
   "source": [
    "## Graph Mining Project Update Presentation: Anomaly Detection in Financial Transaction Graphs\n",
    "\n",
    "This is a document detailing the work I've done learning about anomaly and outlier detection in financial transaction graphs.\n",
    "\n",
    "## Recap\n",
    "\n",
    "Anomaly detection is important in several areas, including but not limited to:\n",
    "\n",
    "- Financial Fraud Detection\n",
    "- Network Security\n",
    "- Event Detection\n",
    "\n",
    "There are several different methods to finding anomalies which make use of graphs, each at different scopes of the graph. An outlier can be global, local, or community-scoped. The basic goal of outlier detection is to identify those nodes or edges which are far outside the norm of the dataset.\n",
    "\n",
    "## What I've Worked On\n",
    "\n",
    "In the past few weeks I've implemented the following algorithms, chosen a metric to measure success, and fit these models to a dataset of labeled bitcoin transactions.\n",
    "\n",
    "### Evaluation Metric\n",
    "\n",
    "By definition, outliers are rare. Because of this, one might think that a baseline model that predicts that there are zero outliers ever could be a sufficient solution. While this model might give very good accuracy (correct predictions over total predictions), it is - understandably - a poor outlier detection algorithm as it does not detect any outliers. Instead, we will be using the precision (percentage of nodes flagged that are actual anomalies) and recall (percentage of real anomalies were actually flagged) of the model as our outlier threshold changes to measure the success of the model. Our metric for success will be the area under the curve of the precision recall curve."
   ]
  },
  {
   "cell_type": "code",
   "execution_count": 2,
   "metadata": {},
   "outputs": [],
   "source": [
    "def evaluate(gt, pred):\n",
    "    precision, recall, _ = metrics.precision_recall_curve(gt, pred, pos_label=1)\n",
    "    precision[-1] = precision[-2]\n",
    "    precision[0] = precision[1 % len(recall)]\n",
    "    auc = metrics.auc(recall, precision)\n",
    "    fig, ax = plt.subplots()\n",
    "    fig.suptitle(\"Precision Recall Curve\")\n",
    "    ax.set_xlabel(\"Recall\")\n",
    "    ax.set_ylabel(\"Precision\")\n",
    "    ax.plot(recall, precision)\n",
    "    return auc, ax"
   ]
  },
  {
   "cell_type": "markdown",
   "metadata": {},
   "source": [
    "## Data\n",
    "\n",
    "This data is a bitcoin financial transaction network labeled with legal and illegal nodes. Each node is composed of 167 numeric attributes. The data is available on Kaggle [here](https://www.kaggle.com/ellipticco/elliptic-data-set)."
   ]
  },
  {
   "cell_type": "code",
   "execution_count": 3,
   "metadata": {},
   "outputs": [],
   "source": [
    "data_root = \"../data/\""
   ]
  },
  {
   "cell_type": "code",
   "execution_count": 4,
   "metadata": {},
   "outputs": [],
   "source": [
    "filepath = os.path.join(data_root, \"elliptic_bitcoin_dataset/\")\n",
    "edgelist = pd.read_csv(os.path.join(filepath, \"elliptic_txs_edgelist.csv\"))\n",
    "features = pd.read_csv(os.path.join(filepath, \"elliptic_txs_features.csv\"), header = None)\n",
    "classes = pd.read_csv(os.path.join(filepath, \"elliptic_txs_classes.csv\"))"
   ]
  },
  {
   "cell_type": "markdown",
   "metadata": {},
   "source": [
    "To reduce the time of training quite a bit, I performed some dimensionality reduction with a pricipal component analysis. This changed the number of attributes from 167 down to 30 while keeping 90\\% of the variance. Additionally, some of the dataset is not known. For training, we remove these data points from consideration."
   ]
  },
  {
   "cell_type": "code",
   "execution_count": 5,
   "metadata": {},
   "outputs": [
    {
     "data": {
      "image/png": "[encoded data removed]",
      "text/plain": [
       "<Figure size 432x288 with 1 Axes>"
      ]
     },
     "metadata": {},
     "output_type": "display_data"
    }
   ],
   "source": [
    "pca = decomposition.PCA(n_components=0.9)\n",
    "reduced_features = pd.DataFrame(pca.fit_transform(features.drop(columns=0).values))\n",
    "reduced_features[\"txId\"] = features[0]\n",
    "known_classes = classes[classes['class'] != \"unknown\"].copy()\n",
    "known_classes['class'] = 2 - known_classes['class'].astype('int32')\n",
    "known_classes.groupby('class').agg('count').plot.pie(y='txId')\n",
    "plt.show()"
   ]
  },
  {
   "cell_type": "markdown",
   "metadata": {},
   "source": [
    "Notice that our data is rather imbalanced. The anomalous nodes are around 10\\% of the data. A normal accuracy metric would give 90\\% accuracy to a model that just predicted there are zero outliers in the data. While 90\\% accuracy might sound good, it will not be a good outlier detection model."
   ]
  },
  {
   "cell_type": "code",
   "execution_count": 6,
   "metadata": {},
   "outputs": [],
   "source": [
    "D = pd.merge(known_classes, reduced_features, on=\"txId\", how=\"inner\")\n",
    "D_ids = set(D['txId'])\n",
    "edge_ids = set(edgelist['txId1']).union(set(edgelist['txId2']))\n",
    "ids = D_ids.intersection(edge_ids)\n",
    "known_edgelist = edgelist[ edgelist['txId1'].isin(ids) & edgelist['txId2'].isin(ids)]\n",
    "D = D[D['txId'].isin(ids)]\n",
    "gt = D[[\"txId\", \"class\"]]\n",
    "train = D.drop(columns=[\"txId\", \"class\"])"
   ]
  },
  {
   "cell_type": "code",
   "execution_count": 7,
   "metadata": {},
   "outputs": [],
   "source": [
    "G = nx.from_pandas_edgelist(known_edgelist, source=\"txId1\", target=\"txId2\", create_using=nx.MultiGraph)\n",
    "G.add_nodes_from(ids)\n",
    "nx.set_node_attributes(G=G, name=\"D\", values=dict(zip(gt[\"txId\"], train.values)))"
   ]
  },
  {
   "cell_type": "markdown",
   "metadata": {},
   "source": [
    "## Models\n",
    "\n",
    "### Baseline\n",
    "\n",
    "Our baseline model always predicts 0 chance of outliers."
   ]
  },
  {
   "cell_type": "code",
   "execution_count": 8,
   "metadata": {},
   "outputs": [],
   "source": [
    "class Baseline(base.BaseEstimator):\n",
    "    def __init__(self):\n",
    "        pass\n",
    "    \n",
    "    def fit(self, X = None, y = None):\n",
    "        return self\n",
    "    \n",
    "    def predict_proba(self, X = None, y = None):\n",
    "        ret = np.zeros(len(X))\n",
    "        ret[0] = 1\n",
    "        return ret"
   ]
  },
  {
   "cell_type": "code",
   "execution_count": 9,
   "metadata": {},
   "outputs": [
    {
     "name": "stdout",
     "output_type": "stream",
     "text": [
      "Wall time: 654 µs\n",
      "Baseline AUC: -0.00e+00\n"
     ]
    },
    {
     "data": {
      "image/png": "[encoded data removed]",
      "text/plain": [
       "<Figure size 432x288 with 1 Axes>"
      ]
     },
     "metadata": {
      "needs_background": "light"
     },
     "output_type": "display_data"
    }
   ],
   "source": [
    "knn = 20\n",
    "M = Baseline()\n",
    "%time pred_probs = M.predict_proba(train)\n",
    "auc, ax = evaluate(gt[\"class\"], pred_probs)\n",
    "print(\"Baseline AUC: {:.2e}\".format(auc))\n",
    "plt.show()"
   ]
  },
  {
   "cell_type": "markdown",
   "metadata": {},
   "source": [
    "Notice that because there are no true positives in the baseline model, the AUC of the precision recall graph will always be 0.\n",
    "\n",
    "### Global Outlier Detection (GLODA)\n",
    "\n",
    "Global outlier detection does not take into account the structure of the graph, although the strategy used to identify global outliers does make use of graph mining in a different way. By placing the training data in its d-dimensional space and identifying the k-nearest neighbors of each data point, we create a graph of closely related data points. The local outlier factor, or LOF, is then computed for each node $n$ based on how many of its k-nearest neighbors have node $n$ as a k-nearest neighbor as well. Fewer in common nearest neighbors leads to a higher outlier factor. This algorithm naturally prefers clustered behavior."
   ]
  },
  {
   "cell_type": "code",
   "execution_count": 10,
   "metadata": {},
   "outputs": [],
   "source": [
    "class GLODA(base.BaseEstimator):\n",
    "    def __init__(self):\n",
    "        self.clf_ = LocalOutlierFactor()\n",
    "    \n",
    "    def fit(self, X = None, y = None):\n",
    "        self.clf_.fit(X)\n",
    "        return self\n",
    "    \n",
    "    def predict_proba(self, X = None, y = None):\n",
    "        S = preprocessing.MinMaxScaler()\n",
    "        self.clf_.fit(X)\n",
    "        result = self.clf_.negative_outlier_factor_\n",
    "        result_scaled = S.fit_transform(result[np.newaxis].T).T[0]\n",
    "        return result_scaled"
   ]
  },
  {
   "cell_type": "code",
   "execution_count": 11,
   "metadata": {},
   "outputs": [
    {
     "name": "stdout",
     "output_type": "stream",
     "text": [
      "Wall time: 2min 23s\n",
      "GLODA AUC: 1.15e-01\n"
     ]
    },
    {
     "data": {
      "image/png": "[encoded data removed]",
      "text/plain": [
       "<Figure size 432x288 with 1 Axes>"
      ]
     },
     "metadata": {
      "needs_background": "light"
     },
     "output_type": "display_data"
    }
   ],
   "source": [
    "knn = 20\n",
    "M = GLODA()\n",
    "%time pred_probs = M.predict_proba(train)\n",
    "auc, ax = evaluate(gt[\"class\"], pred_probs)\n",
    "print(\"GLODA AUC: {:.2e}\".format(auc))\n",
    "plt.show()"
   ]
  },
  {
   "cell_type": "markdown",
   "metadata": {},
   "source": [
    "Observe that as the outlier threshold lessens, more true outliers are identified, but also several false positives, causing the precision of the model to rapily decline."
   ]
  },
  {
   "cell_type": "markdown",
   "metadata": {},
   "source": [
    "### Direct Neighbor Outlier Detection (DNODA)\n",
    "\n",
    "DNODA compares each node's data to its direct neighbors. nodes that have an abnormally large distance from its neighbors in the graph are considered more anomalous. "
   ]
  },
  {
   "cell_type": "code",
   "execution_count": 12,
   "metadata": {},
   "outputs": [],
   "source": [
    "class DNODA(base.BaseEstimator):\n",
    "    def __init__(self, G):\n",
    "        self.G_ = G\n",
    "    \n",
    "    def fit(self, X = None, y = None):\n",
    "        return self\n",
    "    \n",
    "    def predict_proba(self, X = None, y = None):\n",
    "        distances = np.zeros(len(y))\n",
    "        node_data = nx.get_node_attributes(G=self.G_, name=\"D\")\n",
    "        for idx, v in enumerate(y):\n",
    "            p0 = node_data[v]\n",
    "            for u in self.G_.neighbors(v):\n",
    "                p1 = node_data[u]\n",
    "                distances[idx] += np.sqrt(np.sum(np.square(p0 - p1)))\n",
    "            distances[idx] /= self.G_.degree(v) + 1\n",
    "        S = preprocessing.MinMaxScaler()\n",
    "        scaled_distances = S.fit_transform(-distances[np.newaxis].T).T[0]\n",
    "        return scaled_distances"
   ]
  },
  {
   "cell_type": "code",
   "execution_count": 13,
   "metadata": {},
   "outputs": [
    {
     "name": "stdout",
     "output_type": "stream",
     "text": [
      "Wall time: 3.99 s\n",
      "DNODA AUC: 1.85e-01\n"
     ]
    },
    {
     "data": {
      "image/png": "[encoded data removed]",
      "text/plain": [
       "<Figure size 432x288 with 1 Axes>"
      ]
     },
     "metadata": {
      "needs_background": "light"
     },
     "output_type": "display_data"
    }
   ],
   "source": [
    "M = DNODA(G)\n",
    "%time pred_probs = M.predict_proba(y=gt['txId'])\n",
    "auc, ax = evaluate(gt[\"class\"], pred_probs)\n",
    "print(\"DNODA AUC: {:.2e}\".format(auc))\n",
    "plt.show()"
   ]
  },
  {
   "cell_type": "markdown",
   "metadata": {},
   "source": [
    "Right now we can get better results with the DNODA algorithm than with GLODA. Let's see if CNA gives even more improvement:"
   ]
  },
  {
   "cell_type": "markdown",
   "metadata": {},
   "source": [
    "### Community Outlier Detection (CNA)\n",
    "\n",
    "CNA is extremely similar to DNODA, but instead of comparing each node to just its direct neighbors, the algorithm first runs a community clustering algorithm then performs an average distance calculation to all of the other nodes in its community. If a node has a high distance from the other nodes in its community it is considered more anomalous.\n",
    "\n",
    "For simplicity's sake, we are simply using a label propagation community clustering algorithm, although any community algorithm would work here."
   ]
  },
  {
   "cell_type": "code",
   "execution_count": 14,
   "metadata": {},
   "outputs": [],
   "source": [
    "class CNA(base.BaseEstimator):\n",
    "    def __init__(self, G):\n",
    "        self.G_ = G\n",
    "    \n",
    "    def fit(self, X, y = None):\n",
    "        return self\n",
    "    \n",
    "    def predict_proba(self, X = None, y = None):\n",
    "        distances = np.zeros(len(y))\n",
    "        node_data = nx.get_node_attributes(G=self.G_, name=\"D\")\n",
    "        communities = nx.algorithms.community.label_propagation_communities(self.G_)\n",
    "        lookup = dict(zip(y.to_numpy(), range(len(y))))\n",
    "        for c in communities:\n",
    "            for v in c:\n",
    "                idx = lookup[v]\n",
    "                p0 = node_data[v]\n",
    "                for u in c:\n",
    "                    if v == u: continue\n",
    "                    p1 = node_data[u]\n",
    "                    distances[idx] += np.sqrt(np.sum(np.square(p0 - p1)))\n",
    "                distances[idx] /= len(c)\n",
    "        S = preprocessing.MinMaxScaler()\n",
    "        scaled_distances = S.fit_transform(-distances[np.newaxis].T).T[0]\n",
    "        return scaled_distances"
   ]
  },
  {
   "cell_type": "code",
   "execution_count": 15,
   "metadata": {},
   "outputs": [
    {
     "name": "stdout",
     "output_type": "stream",
     "text": [
      "Wall time: 5min 9s\n",
      "CNA AUC: 1.85e-01\n"
     ]
    },
    {
     "data": {
      "image/png": "[encoded data removed]",
      "text/plain": [
       "<Figure size 432x288 with 1 Axes>"
      ]
     },
     "metadata": {
      "needs_background": "light"
     },
     "output_type": "display_data"
    }
   ],
   "source": [
    "M = CNA(G)\n",
    "%time pred_probs = M.predict_proba(y = gt['txId'])\n",
    "auc, ax = evaluate(gt[\"class\"], pred_probs)\n",
    "print(\"CNA AUC: {:.2e}\".format(auc))\n",
    "plt.show()"
   ]
  },
  {
   "cell_type": "markdown",
   "metadata": {},
   "source": [
    "Right now we are seeing basically identical performance from the CNA and DNODA algorithm.\n",
    "\n",
    "### Hybrid Model\n",
    "\n",
    "In a large real-world graph, there will most likely be anomalous nodes from the direct neighbor, community, and global scope. To identify outliers at each of these scopes, let's aggregate each algorithm's \"outlier score\" per node (low meaning average, high meaning anomalous) and see which nodes jump out at us. We will aggregate both using `sum` and `min`."
   ]
  },
  {
   "cell_type": "code",
   "execution_count": 16,
   "metadata": {},
   "outputs": [],
   "source": [
    "class Hybrid(base.BaseEstimator):\n",
    "    def __init__(self, models, agg_fun = lambda x: np.sum(x, axis=0)):\n",
    "        self.models_ = models\n",
    "        self.agg_fun_ = agg_fun\n",
    "    \n",
    "    def fit(self, X, y = None):\n",
    "        for m in self.models_:\n",
    "            m.fit(X, y)\n",
    "        return self\n",
    "    \n",
    "    def predict_proba(self, X, y = None):\n",
    "        return self.agg_fun_([m.predict_proba(X, y) for m in self.models_])"
   ]
  },
  {
   "cell_type": "code",
   "execution_count": 17,
   "metadata": {},
   "outputs": [
    {
     "name": "stdout",
     "output_type": "stream",
     "text": [
      "Wall time: 7min 36s\n",
      "Hybrid Sum AUC: 2.03e-01\n"
     ]
    },
    {
     "data": {
      "image/png": "[encoded data removed]",
      "text/plain": [
       "<Figure size 432x288 with 1 Axes>"
      ]
     },
     "metadata": {
      "needs_background": "light"
     },
     "output_type": "display_data"
    }
   ],
   "source": [
    "M = Hybrid(models = [GLODA(), DNODA(G), CNA(G)])\n",
    "%time pred_probs = M.predict_proba(X = train, y = gt['txId'])\n",
    "auc, ax = evaluate(gt[\"class\"], pred_probs)\n",
    "print(\"Hybrid Sum AUC: {:.2e}\".format(auc))\n",
    "plt.show()"
   ]
  },
  {
   "cell_type": "code",
   "execution_count": 18,
   "metadata": {},
   "outputs": [
    {
     "name": "stdout",
     "output_type": "stream",
     "text": [
      "Wall time: 4min 43s\n",
      "Hybrid Min AUC: 2.01e-01\n"
     ]
    },
    {
     "data": {
      "image/png": "[encoded data removed]",
      "text/plain": [
       "<Figure size 432x288 with 1 Axes>"
      ]
     },
     "metadata": {
      "needs_background": "light"
     },
     "output_type": "display_data"
    }
   ],
   "source": [
    "M = Hybrid(models = [GLODA(), DNODA(G), CNA(G)], agg_fun=lambda x: np.min(x, axis=0))\n",
    "%time pred_probs = M.predict_proba(X = train, y = gt['txId'])\n",
    "auc, ax = evaluate(gt[\"class\"], pred_probs)\n",
    "print(\"Hybrid Min AUC: {:.2e}\".format(auc))\n",
    "plt.show()"
   ]
  },
  {
   "cell_type": "markdown",
   "metadata": {},
   "source": [
    "We see that using a Hybrid model gives some small improvement, although there is no clear difference between the aggregation strategies.\n",
    "\n",
    "## What's Next\n",
    "\n",
    "While the GLODA, DNODA, and CNA algorithms are implemented, they are not yet very good predictive models. Currently, the model naively measures the average distance from one node to each neighbor. This may not be ideal as illegal behavior does not necessarily have to be extrodinarily far from the norm. There may be some more nuanced patterns of illicit behavior that we can better capture with a classifier. The next step of the project is to include a classifier that takes aggregated data at the global, local, and community level to make more accurate predictions."
   ]
  }
 ],
 "metadata": {
  "kernelspec": {
   "display_name": "Python 3",
   "language": "python",
   "name": "python3"
  },
  "language_info": {
   "codemirror_mode": {
    "name": "ipython",
    "version": 3
   },
   "file_extension": ".py",
   "mimetype": "text/x-python",
   "name": "python",
   "nbconvert_exporter": "python",
   "pygments_lexer": "ipython3",
   "version": "3.7.6"
  }
 },
 "nbformat": 4,
 "nbformat_minor": 4
}