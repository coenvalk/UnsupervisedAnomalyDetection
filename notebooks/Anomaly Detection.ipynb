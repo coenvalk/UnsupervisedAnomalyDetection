{
 "cells": [
  {
   "cell_type": "code",
   "execution_count": 1,
   "metadata": {},
   "outputs": [],
   "source": [
    "import os\n",
    "import numpy as np\n",
    "import pandas as pd\n",
    "import networkx as nx\n",
    "from matplotlib import pyplot as plt\n",
    "from sklearn.neighbors import LocalOutlierFactor\n",
    "from sklearn import metrics"
   ]
  },
  {
   "cell_type": "markdown",
   "metadata": {},
   "source": [
    "## Anomaly Detection in Financial Transaction Graphs\n",
    "\n",
    "### Baseline Model\n",
    "\n",
    "An anomaly is - by nature - rare. The vast majority of data will not be an anomaly. Therefore, a baseline model is to just assume that there are zero anomalies in the data. We will see that a model such as has an exceptionally high accuracy, but will not be effective according to the metric we end up choosing.\n",
    "\n",
    "### Metric for Success\n",
    "\n",
    "Because anomalies are rare, accuracy (ratio of correct predictions to total predictions) is a rather misleading metric for determining the success of an anomaly detecting system. A baseline model that always predicts that the data has no anomalies can get an accuracy of $99\\%$ or more! Instead, we should be more focused on the precision and recall of the model:\n",
    "\n",
    "$$\n",
    "\\text{Precision} = \\frac{|\\{\\text{flagged}\\} \\cap \\{\\text{anomaly}\\}|}{|\\{\\text{flagged}\\}|}\n",
    "$$\n",
    "\n",
    "$$\n",
    "\\text{Recall} = \\frac{|\\{\\text{flagged}\\} \\cap \\{\\text{anomaly}\\}|}{|\\{\\text{anomaly}\\}|}\n",
    "$$\n",
    "\n",
    "Notice, that while our toy baseline model has extremely high accuracy, both its precision and recall is 0, because it does not predict any anomalies and thus it does not have any true positive rate.\n",
    "\n",
    "Similar to the creation of a [receiver operations characteristic](https://en.wikipedia.org/wiki/Receiver_operating_characteristic) (ROC) curve, as the threshold at which a point is deemed an anomaly loosens, recall and precision changes. This creates a curve that determines the performance of the model.\n",
    "\n",
    "our metric will be the area under the curve (AUC) of the [precision-recall](https://en.wikipedia.org/wiki/Precision_and_recall) curve. 0 is the worst possible performance and 1 is the best possible performance."
   ]
  },
  {
   "cell_type": "code",
   "execution_count": 2,
   "metadata": {},
   "outputs": [],
   "source": [
    "def evaluate(y_gt, y_probs):\n",
    "    precision, recall, _ = metrics.precision_recall_curve(y_gt, y_probs)\n",
    "    precision = np.concatenate([precision[:-1], [precision[-2]]])\n",
    "    recall = np.concatenate([recall[:-1], [recall[-2]]])\n",
    "    return metrics.auc(recall, precision)"
   ]
  },
  {
   "cell_type": "markdown",
   "metadata": {},
   "source": [
    "## Data"
   ]
  },
  {
   "cell_type": "code",
   "execution_count": 3,
   "metadata": {},
   "outputs": [],
   "source": [
    "data_root = \"./data\""
   ]
  },
  {
   "cell_type": "code",
   "execution_count": 4,
   "metadata": {},
   "outputs": [],
   "source": [
    "sample = 1000000\n",
    "filepath = os.path.join(data_root, \"synthetic_financial_transactions/\", \"data.csv\")\n",
    "df = pd.read_csv(filepath).sample(n=sample).reset_index(drop=True)\n",
    "train_df = df[[\"amount\", \"nameOrig\", \"oldbalanceOrg\", \"newbalanceOrig\", \"nameDest\", \"oldbalanceDest\", \"newbalanceDest\"]]\n",
    "test_df = df[[\"nameOrig\", \"nameDest\", \"isFraud\"]]\n",
    "train = train_df.drop(columns=[\"nameOrig\", \"nameDest\"]).to_numpy()\n",
    "test = test_df.drop(columns=[\"nameOrig\", \"nameDest\"]).to_numpy()"
   ]
  },
  {
   "cell_type": "code",
   "execution_count": 5,
   "metadata": {},
   "outputs": [
    {
     "data": {
      "text/html": [
       "<div>\n",
       "<style scoped>\n",
       "    .dataframe tbody tr th:only-of-type {\n",
       "        vertical-align: middle;\n",
       "    }\n",
       "\n",
       "    .dataframe tbody tr th {\n",
       "        vertical-align: top;\n",
       "    }\n",
       "\n",
       "    .dataframe thead th {\n",
       "        text-align: right;\n",
       "    }\n",
       "</style>\n",
       "<table border=\"1\" class=\"dataframe\">\n",
       "  <thead>\n",
       "    <tr style=\"text-align: right;\">\n",
       "      <th></th>\n",
       "      <th>amount</th>\n",
       "      <th>nameOrig</th>\n",
       "      <th>oldbalanceOrg</th>\n",
       "      <th>newbalanceOrig</th>\n",
       "      <th>nameDest</th>\n",
       "      <th>oldbalanceDest</th>\n",
       "      <th>newbalanceDest</th>\n",
       "    </tr>\n",
       "  </thead>\n",
       "  <tbody>\n",
       "    <tr>\n",
       "      <th>0</th>\n",
       "      <td>117552.58</td>\n",
       "      <td>C1867229710</td>\n",
       "      <td>0.00</td>\n",
       "      <td>0.00</td>\n",
       "      <td>C934138900</td>\n",
       "      <td>10043318.83</td>\n",
       "      <td>10160871.41</td>\n",
       "    </tr>\n",
       "    <tr>\n",
       "      <th>1</th>\n",
       "      <td>8959.66</td>\n",
       "      <td>C1901296898</td>\n",
       "      <td>64277.92</td>\n",
       "      <td>55318.25</td>\n",
       "      <td>M1039727393</td>\n",
       "      <td>0.00</td>\n",
       "      <td>0.00</td>\n",
       "    </tr>\n",
       "    <tr>\n",
       "      <th>2</th>\n",
       "      <td>217460.12</td>\n",
       "      <td>C1638223066</td>\n",
       "      <td>43.00</td>\n",
       "      <td>0.00</td>\n",
       "      <td>C654871113</td>\n",
       "      <td>436602.50</td>\n",
       "      <td>654062.63</td>\n",
       "    </tr>\n",
       "    <tr>\n",
       "      <th>3</th>\n",
       "      <td>247287.39</td>\n",
       "      <td>C2058009043</td>\n",
       "      <td>9031.00</td>\n",
       "      <td>0.00</td>\n",
       "      <td>C2082236953</td>\n",
       "      <td>336709.02</td>\n",
       "      <td>583996.41</td>\n",
       "    </tr>\n",
       "    <tr>\n",
       "      <th>4</th>\n",
       "      <td>4890.11</td>\n",
       "      <td>C323470761</td>\n",
       "      <td>55307.00</td>\n",
       "      <td>50416.89</td>\n",
       "      <td>M983826542</td>\n",
       "      <td>0.00</td>\n",
       "      <td>0.00</td>\n",
       "    </tr>\n",
       "  </tbody>\n",
       "</table>\n",
       "</div>"
      ],
      "text/plain": [
       "      amount     nameOrig  oldbalanceOrg  newbalanceOrig     nameDest  \\\n",
       "0  117552.58  C1867229710           0.00            0.00   C934138900   \n",
       "1    8959.66  C1901296898       64277.92        55318.25  M1039727393   \n",
       "2  217460.12  C1638223066          43.00            0.00   C654871113   \n",
       "3  247287.39  C2058009043        9031.00            0.00  C2082236953   \n",
       "4    4890.11   C323470761       55307.00        50416.89   M983826542   \n",
       "\n",
       "   oldbalanceDest  newbalanceDest  \n",
       "0     10043318.83     10160871.41  \n",
       "1            0.00            0.00  \n",
       "2       436602.50       654062.63  \n",
       "3       336709.02       583996.41  \n",
       "4            0.00            0.00  "
      ]
     },
     "execution_count": 5,
     "metadata": {},
     "output_type": "execute_result"
    }
   ],
   "source": [
    "train_df.head()"
   ]
  },
  {
   "cell_type": "code",
   "execution_count": 6,
   "metadata": {},
   "outputs": [
    {
     "data": {
      "text/html": [
       "<div>\n",
       "<style scoped>\n",
       "    .dataframe tbody tr th:only-of-type {\n",
       "        vertical-align: middle;\n",
       "    }\n",
       "\n",
       "    .dataframe tbody tr th {\n",
       "        vertical-align: top;\n",
       "    }\n",
       "\n",
       "    .dataframe thead th {\n",
       "        text-align: right;\n",
       "    }\n",
       "</style>\n",
       "<table border=\"1\" class=\"dataframe\">\n",
       "  <thead>\n",
       "    <tr style=\"text-align: right;\">\n",
       "      <th></th>\n",
       "      <th>nameOrig</th>\n",
       "      <th>nameDest</th>\n",
       "      <th>isFraud</th>\n",
       "    </tr>\n",
       "  </thead>\n",
       "  <tbody>\n",
       "    <tr>\n",
       "      <th>0</th>\n",
       "      <td>C1867229710</td>\n",
       "      <td>C934138900</td>\n",
       "      <td>0</td>\n",
       "    </tr>\n",
       "    <tr>\n",
       "      <th>1</th>\n",
       "      <td>C1901296898</td>\n",
       "      <td>M1039727393</td>\n",
       "      <td>0</td>\n",
       "    </tr>\n",
       "    <tr>\n",
       "      <th>2</th>\n",
       "      <td>C1638223066</td>\n",
       "      <td>C654871113</td>\n",
       "      <td>0</td>\n",
       "    </tr>\n",
       "    <tr>\n",
       "      <th>3</th>\n",
       "      <td>C2058009043</td>\n",
       "      <td>C2082236953</td>\n",
       "      <td>0</td>\n",
       "    </tr>\n",
       "    <tr>\n",
       "      <th>4</th>\n",
       "      <td>C323470761</td>\n",
       "      <td>M983826542</td>\n",
       "      <td>0</td>\n",
       "    </tr>\n",
       "  </tbody>\n",
       "</table>\n",
       "</div>"
      ],
      "text/plain": [
       "      nameOrig     nameDest  isFraud\n",
       "0  C1867229710   C934138900        0\n",
       "1  C1901296898  M1039727393        0\n",
       "2  C1638223066   C654871113        0\n",
       "3  C2058009043  C2082236953        0\n",
       "4   C323470761   M983826542        0"
      ]
     },
     "execution_count": 6,
     "metadata": {},
     "output_type": "execute_result"
    }
   ],
   "source": [
    "test_df.head()"
   ]
  },
  {
   "cell_type": "markdown",
   "metadata": {},
   "source": [
    "## Models\n",
    "\n",
    "### Baseline"
   ]
  },
  {
   "cell_type": "code",
   "execution_count": 7,
   "metadata": {},
   "outputs": [
    {
     "name": "stdout",
     "output_type": "stream",
     "text": [
      "Baseline Model AUC: 0.00e+00\n"
     ]
    }
   ],
   "source": [
    "y_prob = np.zeros(len(test))\n",
    "auc = evaluate(test, y_prob)\n",
    "print(\"Baseline Model AUC: {:.2e}\".format(auc))"
   ]
  },
  {
   "cell_type": "markdown",
   "metadata": {},
   "source": [
    "As expected, according to our metric, the baseline - assume there are no outliers - does give results at all.\n",
    "\n",
    "### Global Outlier Detection"
   ]
  },
  {
   "cell_type": "code",
   "execution_count": 8,
   "metadata": {},
   "outputs": [
    {
     "name": "stdout",
     "output_type": "stream",
     "text": [
      "Wall time: 5min 8s\n",
      "LOF Model AUC: 1.37e-03\n"
     ]
    }
   ],
   "source": [
    "knn = 2\n",
    "clf = LocalOutlierFactor(n_neighbors=knn)\n",
    "%time outliers = clf.fit(train)\n",
    "y_prob = clf.negative_outlier_factor_\n",
    "auc = evaluate(test, y_prob)\n",
    "print(\"LOF Model AUC: {:.2e}\".format(auc))"
   ]
  },
  {
   "cell_type": "markdown",
   "metadata": {},
   "source": [
    "Our LOF model does not show very convincing results.\n",
    "\n",
    "### Direct Neighbor Outlier Detection"
   ]
  },
  {
   "cell_type": "code",
   "execution_count": 9,
   "metadata": {},
   "outputs": [],
   "source": [
    "node_G = nx.from_pandas_edgelist(train_df, source=\"nameOrig\", target=\"nameDest\", edge_attr=True, create_using=nx.MultiDiGraph)\n",
    "edge_G = nx.line_graph(node_G)"
   ]
  },
  {
   "cell_type": "code",
   "execution_count": 10,
   "metadata": {},
   "outputs": [],
   "source": [
    "attr = dict.fromkeys(edge_G.nodes())\n",
    "for source, target, v in edge_G.nodes():\n",
    "    attr[(source, target, v)] = node_G[source][target]\n",
    "nx.set_node_attributes(edge_G, attr)"
   ]
  },
  {
   "cell_type": "markdown",
   "metadata": {},
   "source": [
    "### Community Outlier Detection\n",
    "### OddBall\n",
    "### Hybrid Model"
   ]
  },
  {
   "cell_type": "code",
   "execution_count": null,
   "metadata": {},
   "outputs": [],
   "source": []
  }
 ],
 "metadata": {
  "kernelspec": {
   "display_name": "Python 3",
   "language": "python",
   "name": "python3"
  },
  "language_info": {
   "codemirror_mode": {
    "name": "ipython",
    "version": 3
   },
   "file_extension": ".py",
   "mimetype": "text/x-python",
   "name": "python",
   "nbconvert_exporter": "python",
   "pygments_lexer": "ipython3",
   "version": "3.7.6"
  }
 },
 "nbformat": 4,
 "nbformat_minor": 4
}
