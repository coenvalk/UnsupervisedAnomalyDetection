{
 "cells": [
  {
   "cell_type": "code",
   "execution_count": 1,
   "metadata": {},
   "outputs": [],
   "source": [
    "import os\n",
    "import pickle\n",
    "import numpy as np\n",
    "import pandas as pd\n",
    "import networkx as nx\n",
    "from sklearn import metrics\n",
    "from matplotlib import pyplot as plt\n",
    "from sklearn.neighbors import LocalOutlierFactor"
   ]
  },
  {
   "cell_type": "markdown",
   "metadata": {},
   "source": [
    "## Graph Mining Project Update Presentation: Anomaly Detection in Graphs\n",
    "\n",
    "This is a document detailing the work I've done learning about anomaly and outlier detection in graphs.\n",
    "\n",
    "## Recap\n",
    "\n",
    "Anomaly detection is important in all sorts of problems:\n",
    "\n",
    "- Financial Fraud Detection\n",
    "- Network Security\n",
    "\n",
    "There are several different methods to finding anomalies, each at different scopes of the graph. An outlier can be global, local, or community-scoped.\n",
    "\n",
    "## What I've Worked On\n",
    "\n",
    "In the past few weeks I've \n",
    "\n",
    "## Scope Pivot\n",
    "\n",
    "due to a lack of available outlier labeled datasets for financial transaction graphs\n",
    "\n",
    "## Data\n",
    "\n",
    "This data is synthetic data created by me following a power law and long tail distribution similar to a real-world graph, very similar to how synthetic data is created in other papers [\\[1\\]](#ref1). Each edge has 4 numeric attributes following a pareto distribution. We are going to attempt to find which edges seem anomalous (like a fraudulent charge, or an illegitimate network package distribution)."
   ]
  },
  {
   "cell_type": "code",
   "execution_count": 2,
   "metadata": {},
   "outputs": [],
   "source": [
    "data_root = \"../data/\""
   ]
  },
  {
   "cell_type": "code",
   "execution_count": 3,
   "metadata": {},
   "outputs": [
    {
     "data": {
      "text/plain": [
       "(10000, 19996)"
      ]
     },
     "execution_count": 3,
     "metadata": {},
     "output_type": "execute_result"
    }
   ],
   "source": [
    "filepath = os.path.join(data_root, \"synthetic/\", \"graph-10000.pickle\")\n",
    "with open(filepath, 'rb') as f:\n",
    "    G = pickle.load(f)\n",
    "outlier_n = int(G.order() / 100)\n",
    "G.order(), G.size()"
   ]
  },
  {
   "cell_type": "markdown",
   "metadata": {},
   "source": [
    "## Models\n",
    "### Global Outlier Detection"
   ]
  },
  {
   "cell_type": "code",
   "execution_count": 4,
   "metadata": {},
   "outputs": [
    {
     "data": {
      "image/png": "[encoded data removed]",
      "text/plain": [
       "<Figure size 432x288 with 1 Axes>"
      ]
     },
     "metadata": {
      "needs_background": "light"
     },
     "output_type": "display_data"
    },
    {
     "name": "stdout",
     "output_type": "stream",
     "text": [
      "Wall time: 1.98 s\n"
     ]
    }
   ],
   "source": [
    "%%time\n",
    "D = np.zeros((G.size(), 4))\n",
    "edge_data = nx.get_edge_attributes(G, \"D\")\n",
    "edges = list(G.edges())\n",
    "for i, e in enumerate(edges):\n",
    "    D[i] = edge_data[e]\n",
    "knn = 20\n",
    "clf = LocalOutlierFactor(n_neighbors=knn)\n",
    "clf.fit(D)\n",
    "GLODA_worst_offenders = (-clf.negative_outlier_factor_).argsort()[-outlier_n:]\n",
    "GLODA_outliers = set(edges[i] for i in GLODA_worst_offenders)\n",
    "plt.hist(-clf.negative_outlier_factor_, bins=25)\n",
    "plt.title(\"GLODA Outlier Histogram\")\n",
    "plt.xlabel(\"Outlier Score\")\n",
    "plt.ylabel(\"Frequency\")\n",
    "plt.show()"
   ]
  },
  {
   "cell_type": "markdown",
   "metadata": {},
   "source": [
    "Our other strategies require the context of the graph structure to create inferences.\n",
    "\n",
    "#### Line Graph\n",
    "\n",
    "The graph algorithms discussed here are node-focused. However, our data reads in an edgelist of transactions. To create meaningful inferences, we will run our anomaly detection algorithms on the induced [line graph](https://mathworld.wolfram.com/LineGraph.html) of the data. Now, each edge in the original graph is a node in the induced graph, and edges in the induced graph show edges that shared a node in the original graph."
   ]
  },
  {
   "cell_type": "code",
   "execution_count": 5,
   "metadata": {},
   "outputs": [],
   "source": [
    "edge_G = nx.line_graph(G)\n",
    "attr = dict.fromkeys(edge_G.nodes())\n",
    "for source, target in edge_G.nodes():\n",
    "    attr[(source, target)] = G[source][target]\n",
    "nx.set_node_attributes(edge_G, attr)"
   ]
  },
  {
   "cell_type": "markdown",
   "metadata": {},
   "source": [
    "### Direct Neighbor Outlier Detection"
   ]
  },
  {
   "cell_type": "code",
   "execution_count": 6,
   "metadata": {},
   "outputs": [
    {
     "data": {
      "image/png": "[encoded data removed]",
      "text/plain": [
       "<Figure size 432x288 with 1 Axes>"
      ]
     },
     "metadata": {
      "needs_background": "light"
     },
     "output_type": "display_data"
    },
    {
     "name": "stdout",
     "output_type": "stream",
     "text": [
      "Wall time: 15.4 s\n"
     ]
    }
   ],
   "source": [
    "%%time\n",
    "DNODA_distances = np.zeros(edge_G.order())\n",
    "node_data = nx.get_node_attributes(edge_G, \"D\")\n",
    "nodes = edges\n",
    "for i, v in enumerate(nodes):\n",
    "    p0 = node_data[v]\n",
    "    dist = 0\n",
    "    for u in edge_G.neighbors(v):\n",
    "        p1 = node_data[u]\n",
    "        dist += np.sqrt(np.sum(np.square(p0 - p1)))\n",
    "    DNODA_distances[i] = dist / edge_G.degree(v)\n",
    "DNODA_worst_offenders = np.argsort(DNODA_distances)[-outlier_n:]\n",
    "DNODA_outliers = set(nodes[i] for i in DNODA_worst_offenders)\n",
    "plt.hist(DNODA_distances, bins=25)\n",
    "plt.title(\"DNODA Outlier Histogram\")\n",
    "plt.xlabel(\"Outlier Score\")\n",
    "plt.ylabel(\"Frequency\")\n",
    "plt.show()"
   ]
  },
  {
   "cell_type": "markdown",
   "metadata": {},
   "source": [
    "### Community Outlier Detection"
   ]
  },
  {
   "cell_type": "code",
   "execution_count": 7,
   "metadata": {},
   "outputs": [
    {
     "data": {
      "image/png": "[encoded data removed]",
      "text/plain": [
       "<Figure size 432x288 with 1 Axes>"
      ]
     },
     "metadata": {
      "needs_background": "light"
     },
     "output_type": "display_data"
    },
    {
     "name": "stdout",
     "output_type": "stream",
     "text": [
      "Wall time: 1min 6s\n"
     ]
    }
   ],
   "source": [
    "%%time\n",
    "CNA_distances = np.zeros(edge_G.order())\n",
    "communities = [list(c) for c in nx.algorithms.community.label_propagation_communities(edge_G)]\n",
    "for c in communities:\n",
    "    for v in c:\n",
    "        p0 = node_data[v]\n",
    "        dist = 0\n",
    "        for u in c:\n",
    "            p1 = node_data[u]\n",
    "            dist += np.sqrt(np.sum(np.square(p0 - p1)))\n",
    "        i = nodes.index(v)\n",
    "        CNA_distances[i] = dist / len(c)\n",
    "CNA_worst_offenders = np.argsort(CNA_distances)[-outlier_n:]\n",
    "CNA_outliers = set(nodes[i] for i in CNA_worst_offenders)\n",
    "plt.hist(CNA_distances, bins=25)\n",
    "plt.title(\"CNA Outlier Histogram\")\n",
    "plt.xlabel(\"Outlier Score\")\n",
    "plt.ylabel(\"Frequency\")\n",
    "plt.show()"
   ]
  },
  {
   "cell_type": "code",
   "execution_count": 8,
   "metadata": {},
   "outputs": [
    {
     "name": "stdout",
     "output_type": "stream",
     "text": [
      "{(642, 1181), (8552, 8813), (3701, 6908), (60, 2204), (1660, 6101), (52, 1725), (5, 116), (135, 2373), (592, 1145), (1779, 4960), (557, 6815), (247, 409), (7694, 9035), (451, 1327), (4520, 5508), (37, 6954), (122, 353), (79, 2425), (2174, 2324), (559, 8574), (119, 6941), (1901, 4548), (4727, 5699), (82, 848), (3, 4521), (25, 558), (2678, 3529), (6901, 9127), (1014, 1280), (491, 6279), (5887, 6717), (99, 5059), (9, 4655), (6518, 9307), (14, 370), (1680, 4247), (4027, 8080), (5, 436), (4992, 5765), (288, 3551), (812, 7946), (3373, 6698), (723, 1960), (158, 300), (3144, 6503), (350, 606), (1079, 2235), (2594, 3982), (37, 2248)}\n"
     ]
    },
    {
     "data": {
      "text/plain": [
       "(49, 100)"
      ]
     },
     "execution_count": 8,
     "metadata": {},
     "output_type": "execute_result"
    }
   ],
   "source": [
    "all_algo_outliers = GLODA_outliers.intersection(DNODA_outliers).intersection(CNA_outliers)\n",
    "print(all_algo_outliers)\n",
    "len(all_algo_outliers), len(GLODA_outliers)"
   ]
  },
  {
   "cell_type": "markdown",
   "metadata": {},
   "source": [
    "It seems like while the algorithms execute differently, they do contain some similar results. The algorithms identify a similar group of outliers, although the outlier ranking might be in a slightly different order. Let's see if there are outliers that are unique to each of these algorithms:"
   ]
  },
  {
   "cell_type": "code",
   "execution_count": 9,
   "metadata": {},
   "outputs": [
    {
     "name": "stdout",
     "output_type": "stream",
     "text": [
      "Exclusive GLODA determined outliers:\n",
      "{(1987, 4185), (489, 5851), (1568, 8399), (505, 2853), (83, 1476), (4491, 6518), (458, 5170), (550, 7351), (1009, 7993), (2829, 7507), (1403, 3329), (27, 9947), (611, 1315), (713, 9045), (5394, 9905), (41, 1399), (1687, 4681), (956, 2208), (226, 4248), (3101, 3428), (434, 4126), (128, 2589), (35, 57), (5315, 5494), (286, 2698), (4851, 5589), (870, 9523), (28, 8370), (1886, 5370), (2432, 3669), (2189, 5257), (345, 6686), (78, 7294), (7593, 8340), (175, 3646), (756, 2911), (3338, 4818), (3216, 7963), (2189, 6418), (279, 1999), (1774, 3182), (2551, 7931), (1064, 1083)}\n",
      "\n",
      "Exclusive DNODA determined outliers:\n",
      "{(2827, 5898), (2334, 8129), (616, 3905), (2397, 3573), (1120, 5895), (1649, 3199), (4581, 4942), (1318, 4672), (1487, 6728), (378, 807), (5823, 9822), (4991, 8533), (121, 6275), (6027, 7187), (1013, 4723)}\n",
      "\n",
      "Exclusive CNA determined outliers:\n",
      "{(14, 273), (5667, 8688), (742, 3655), (12, 442), (14, 2674), (417, 8772), (66, 4119), (833, 5704), (79, 8424), (5101, 6163), (3, 1744), (1156, 5984), (1907, 5013)}\n"
     ]
    }
   ],
   "source": [
    "exclusive_GLODA_outliers = GLODA_outliers.difference(DNODA_outliers.union(CNA_outliers))\n",
    "exclusive_DNODA_outliers = DNODA_outliers.difference(GLODA_outliers.union(CNA_outliers))\n",
    "exclusive_CNA_outliers = CNA_outliers.difference(DNODA_outliers.union(GLODA_outliers))\n",
    "print(\"Exclusive GLODA determined outliers:\")\n",
    "print(exclusive_GLODA_outliers)\n",
    "print()\n",
    "print(\"Exclusive DNODA determined outliers:\")\n",
    "print(exclusive_DNODA_outliers)\n",
    "print()\n",
    "print(\"Exclusive CNA determined outliers:\")\n",
    "print(exclusive_CNA_outliers)"
   ]
  },
  {
   "cell_type": "markdown",
   "metadata": {},
   "source": [
    "- The exclusive GLODA outliers are outliers which without the context of the graph structure seem to look rather anomalous, but their outlier status seem to be explained by the graph context, as their neighbors or community have similar attributes.\n",
    "- The DNODA outliers are only found to be anomalous in the context of its direct neighbors, but it is not considered particularly anomalous in the context of the community it is in nor the entire graph.\n",
    "- The CNA outliers are only anomalous in the context of the community, but not necesarily in the context of its direct neighbors or \n",
    "\n",
    "### Hybrid Model\n",
    "\n",
    "In a large real-world graph, there will most likely be anomalous nodes from the direct neighbor, community, and global scope. To identify outliers at each of these scopes, let's take an average of each algorithm's \"outlier score\" per node (low meaning average, high meaning anomalous) and see which nodes jump out at us:"
   ]
  },
  {
   "cell_type": "code",
   "execution_count": 10,
   "metadata": {},
   "outputs": [
    {
     "data": {
      "image/png": "[encoded data removed]",
      "text/plain": [
       "<Figure size 432x288 with 1 Axes>"
      ]
     },
     "metadata": {
      "needs_background": "light"
     },
     "output_type": "display_data"
    },
    {
     "name": "stdout",
     "output_type": "stream",
     "text": [
      "{(1568, 8399), (1660, 6101), (135, 2373), (2829, 7507), (5307, 5486), (119, 6941), (5394, 9905), (226, 4248), (35, 57), (14, 370), (286, 2698), (4851, 5589), (723, 1960), (158, 300), (175, 3646), (350, 606), (1079, 2235), (37, 2248), (83, 1476), (4491, 6518), (458, 5170), (0, 8753), (52, 1725), (5, 116), (550, 7351), (1009, 7993), (1779, 4960), (4520, 5508), (247, 409), (37, 6954), (27, 9947), (1162, 8804), (559, 8574), (1901, 4548), (8996, 9777), (82, 848), (4727, 5699), (3101, 3428), (5531, 6145), (5315, 5494), (6518, 9307), (4992, 5765), (812, 7946), (3373, 6698), (870, 9523), (279, 1999), (2551, 7931), (2189, 5257), (2594, 3982), (642, 1181), (1, 3), (1987, 4185), (8552, 8813), (505, 2853), (3701, 6908), (60, 2204), (557, 6815), (451, 1327), (79, 2425), (2174, 2324), (3, 4521), (5246, 7391), (25, 558), (6901, 9127), (128, 2589), (9, 4655), (78, 7294), (3338, 4818), (3144, 6503), (1064, 1083), (489, 5851), (592, 1145), (7694, 9035), (1403, 3329), (611, 1315), (122, 353), (713, 9045), (98, 2733), (2678, 3529), (956, 2208), (434, 4126), (1014, 1280), (1156, 5984), (491, 6279), (5887, 6717), (99, 5059), (1680, 4247), (4027, 8080), (5, 436), (288, 3551), (58, 6284), (0, 2140), (28, 8370), (1886, 5370), (2432, 3669), (345, 6686), (7593, 8340), (756, 2911), (3216, 7963), (2189, 6418)}\n"
     ]
    }
   ],
   "source": [
    "hybrid_model = ((-clf.negative_outlier_factor_) + DNODA_distances + CNA_distances) / 3\n",
    "hybrid_outliers = set(nodes[i] for i in hybrid_model.argsort()[-outlier_n:])\n",
    "plt.hist(hybrid_model, bins=25)\n",
    "plt.show()\n",
    "print(hybrid_outliers)"
   ]
  },
  {
   "cell_type": "markdown",
   "metadata": {},
   "source": [
    "## What's Next\n",
    "\n",
    "## References\n",
    "\n",
    "1. <a id=\"ref1\">http://snap.stanford.edu/class/cs224w-2015/projects_2015/Anomaly_Detection_in_Graphs.pdf</a>"
   ]
  },
  {
   "cell_type": "code",
   "execution_count": null,
   "metadata": {},
   "outputs": [],
   "source": []
  }
 ],
 "metadata": {
  "kernelspec": {
   "display_name": "Python 3",
   "language": "python",
   "name": "python3"
  },
  "language_info": {
   "codemirror_mode": {
    "name": "ipython",
    "version": 3
   },
   "file_extension": ".py",
   "mimetype": "text/x-python",
   "name": "python",
   "nbconvert_exporter": "python",
   "pygments_lexer": "ipython3",
   "version": "3.7.6"
  }
 },
 "nbformat": 4,
 "nbformat_minor": 4
}
